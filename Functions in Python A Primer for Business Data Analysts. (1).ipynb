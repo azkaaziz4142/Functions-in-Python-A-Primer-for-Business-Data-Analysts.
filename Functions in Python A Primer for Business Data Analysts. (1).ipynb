{
 "cells": [
  {
   "cell_type": "code",
   "execution_count": 11,
   "id": "9a172c62",
   "metadata": {},
   "outputs": [
    {
     "name": "stdout",
     "output_type": "stream",
     "text": [
      "Please enter your name: azka\n",
      "Hello, azka! The current time is 12:44:49.\n"
     ]
    }
   ],
   "source": [
    "#Question1\n",
    "import datetime\n",
    "def greet_with_time(name):\n",
    "    current_time = datetime.datetime.now().strftime(\"%H:%M:%S\")\n",
    "    print(f\"Hello, {name}! The current time is {current_time}.\")\n",
    "name = input(\"Please enter your name: \")\n",
    "greet_with_time(name)\n"
   ]
  },
  {
   "cell_type": "code",
   "execution_count": 13,
   "id": "bba7147a",
   "metadata": {},
   "outputs": [
    {
     "name": "stdout",
     "output_type": "stream",
     "text": [
      "14.0\n"
     ]
    }
   ],
   "source": [
    "#Question 2\n",
    "def calculate_average(num1,num2,num3):\n",
    "    average=(num1+num2+num3)/3\n",
    "    return average\n",
    "result=calculate_average(10,2,30)\n",
    "print(result)\n"
   ]
  },
  {
   "cell_type": "code",
   "execution_count": 14,
   "id": "ebf11a0b",
   "metadata": {},
   "outputs": [
    {
     "name": "stdout",
     "output_type": "stream",
     "text": [
      "Enter the price: 200\n",
      "The price after discount is: 180.0\n"
     ]
    }
   ],
   "source": [
    "#Question 3\n",
    "def calculate_discount(price, discount_percentage=10):\n",
    "    discount_amount = (price * discount_percentage) / 100\n",
    "    final_price = price - discount_amount\n",
    "    return final_price\n",
    "price = float(input(\"Enter the price: \"))\n",
    "final_price = calculate_discount(price) \n",
    "print(f\"The price after discount is: {final_price}\")\n"
   ]
  },
  {
   "cell_type": "code",
   "execution_count": 15,
   "id": "3699f21a",
   "metadata": {},
   "outputs": [
    {
     "name": "stdout",
     "output_type": "stream",
     "text": [
      "Name: Alice\n",
      "Age: 30\n",
      "City: New York\n"
     ]
    }
   ],
   "source": [
    "#Question 4\n",
    "def print_info(name, age, city):\n",
    "    print(f\"Name: {name}\")\n",
    "    print(f\"Age: {age}\")\n",
    "    print(f\"City: {city}\")\n",
    "print_info(name=\"Alice\", age=30, city=\"New York\")\n"
   ]
  },
  {
   "cell_type": "code",
   "execution_count": 16,
   "id": "0d5f0d91",
   "metadata": {},
   "outputs": [
    {
     "name": "stdout",
     "output_type": "stream",
     "text": [
      "The maximum value is: 8\n"
     ]
    }
   ],
   "source": [
    "#Question 5\n",
    "def find_max(*args):\n",
    "    if args: \n",
    "        return max(args)\n",
    "    else:\n",
    "        return None \n",
    "result = find_max(3, 5, 7, 2, 8, 6)\n",
    "print(\"The maximum value is:\", result)\n"
   ]
  },
  {
   "cell_type": "code",
   "execution_count": 20,
   "id": "ebd9aff4",
   "metadata": {},
   "outputs": [
    {
     "name": "stdout",
     "output_type": "stream",
     "text": [
      "Enter a number: 100\n",
      "The factorial of 100 is: 93326215443944152681699238856266700490715968264381621468592963895217599993229915608941463976156518286253697920827223758251185210916864000000000000000000000000\n"
     ]
    }
   ],
   "source": [
    "#Question 6\n",
    "def factorial(n):\n",
    "    if n == 0 or n == 1:\n",
    "        return 1\n",
    "    else:\n",
    "        return n * factorial(n - 1)\n",
    "number = int(input(\"Enter a number: \"))\n",
    "result = factorial(number)\n",
    "print(f\"The factorial of {number} is: {result}\")\n"
   ]
  },
  {
   "cell_type": "code",
   "execution_count": 21,
   "id": "300ceb0d",
   "metadata": {},
   "outputs": [
    {
     "name": "stdout",
     "output_type": "stream",
     "text": [
      "The results are: [1, 4, 9, 16, 25]\n"
     ]
    }
   ],
   "source": [
    "#Question 7\n",
    "def apply_function(func, numbers):\n",
    "    return [func(num) for num in numbers]\n",
    "def square(x):\n",
    "    return x * x\n",
    "\n",
    "numbers = [1, 2, 3, 4, 5]\n",
    "result = apply_function(square, numbers)\n",
    "print(\"The results are:\", result)\n"
   ]
  },
  {
   "cell_type": "code",
   "execution_count": 22,
   "id": "aa4fea4b",
   "metadata": {},
   "outputs": [
    {
     "name": "stdout",
     "output_type": "stream",
     "text": [
      "The square of 5 is: 25\n"
     ]
    }
   ],
   "source": [
    "#Question 8\n",
    "square = lambda x: x * x\n",
    "result = square(5)\n",
    "print(\"The square of 5 is:\", result)\n"
   ]
  },
  {
   "cell_type": "code",
   "execution_count": 23,
   "id": "1d66227e",
   "metadata": {},
   "outputs": [
    {
     "name": "stdout",
     "output_type": "stream",
     "text": [
      "The results are: [2, 4, 6, 8, 10]\n"
     ]
    }
   ],
   "source": [
    "#Question 9\n",
    "def apply_operation(func, numbers):\n",
    "    return [func(num) for num in numbers]\n",
    "def double(x):\n",
    "    return x * 2\n",
    "\n",
    "numbers = [1, 2, 3, 4, 5]\n",
    "result = apply_operation(double, numbers)\n",
    "print(\"The results are:\", result)\n"
   ]
  },
  {
   "cell_type": "code",
   "execution_count": 24,
   "id": "d0601dbf",
   "metadata": {},
   "outputs": [
    {
     "name": "stdout",
     "output_type": "stream",
     "text": [
      "Execution time of slow_function: 2.000459 seconds\n"
     ]
    }
   ],
   "source": [
    "#Question 10\n",
    "import time\n",
    "def measure_time(func):\n",
    "    def wrapper(*args, **kwargs):\n",
    "        start_time = time.time() \n",
    "        result = func(*args, **kwargs) \n",
    "        end_time = time.time() \n",
    "        execution_time = end_time - start_time  \n",
    "        print(f\"Execution time of {func.__name__}: {execution_time:.6f} seconds\")\n",
    "        return result\n",
    "    return wrapper\n",
    "@measure_time\n",
    "def slow_function():\n",
    "    time.sleep(2)  \n",
    "\n",
    "slow_function()\n"
   ]
  },
  {
   "cell_type": "code",
   "execution_count": null,
   "id": "6281841a",
   "metadata": {},
   "outputs": [],
   "source": []
  }
 ],
 "metadata": {
  "kernelspec": {
   "display_name": "Python 3 (ipykernel)",
   "language": "python",
   "name": "python3"
  },
  "language_info": {
   "codemirror_mode": {
    "name": "ipython",
    "version": 3
   },
   "file_extension": ".py",
   "mimetype": "text/x-python",
   "name": "python",
   "nbconvert_exporter": "python",
   "pygments_lexer": "ipython3",
   "version": "3.12.4"
  }
 },
 "nbformat": 4,
 "nbformat_minor": 5
}
